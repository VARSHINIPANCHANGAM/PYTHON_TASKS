{
  "nbformat": 4,
  "nbformat_minor": 0,
  "metadata": {
    "colab": {
      "provenance": []
    },
    "kernelspec": {
      "name": "python3",
      "display_name": "Python 3"
    },
    "language_info": {
      "name": "python"
    }
  },
  "cells": [
    {
      "cell_type": "code",
      "execution_count": 1,
      "metadata": {
        "colab": {
          "base_uri": "https://localhost:8080/"
        },
        "id": "MhokQfZKq1Me",
        "outputId": "80b70fda-536b-4226-fe14-6e2fad4e8e92"
      },
      "outputs": [
        {
          "output_type": "stream",
          "name": "stdout",
          "text": [
            "List: [1, 2, 3, 4, 5]\n",
            "After adding an element: [1, 2, 3, 4, 5, 6]\n",
            "After removing an element: [1, 2, 4, 5, 6]\n",
            "After modifying an element: [10, 2, 4, 5, 6]\n",
            "Dictionary: {'a': 1, 'b': 2, 'c': 3}\n",
            "After adding a key-value pair: {'a': 1, 'b': 2, 'c': 3, 'd': 4}\n",
            "After removing a key-value pair: {'a': 1, 'c': 3, 'd': 4}\n",
            "After modifying a value: {'a': 100, 'c': 3, 'd': 4}\n",
            "Set: {1, 2, 3, 4, 5}\n",
            "After adding an element: {1, 2, 3, 4, 5, 6}\n",
            "After removing an element: {1, 2, 4, 5, 6}\n"
          ]
        }
      ],
      "source": [
        "my_list = [1, 2, 3, 4, 5]\n",
        "print(\"List:\", my_list)\n",
        "\n",
        "my_list.append(6)\n",
        "print(\"After adding an element:\", my_list)\n",
        "\n",
        "my_list.remove(3)\n",
        "print(\"After removing an element:\", my_list)\n",
        "\n",
        "my_list[0] = 10\n",
        "print(\"After modifying an element:\", my_list)\n",
        "\n",
        "my_dict = {'a': 1, 'b': 2, 'c': 3}\n",
        "print(\"Dictionary:\", my_dict)\n",
        "\n",
        "my_dict['d'] = 4\n",
        "print(\"After adding a key-value pair:\", my_dict)\n",
        "\n",
        "del my_dict['b']\n",
        "print(\"After removing a key-value pair:\", my_dict)\n",
        "\n",
        "my_dict['a'] = 100\n",
        "print(\"After modifying a value:\", my_dict)\n",
        "\n",
        "my_set = {1, 2, 3, 4, 5}\n",
        "print(\"Set:\", my_set)\n",
        "\n",
        "my_set.add(6)\n",
        "print(\"After adding an element:\", my_set)\n",
        "\n",
        "my_set.remove(3)\n",
        "print(\"After removing an element:\", my_set)\n"
      ]
    }
  ]
}